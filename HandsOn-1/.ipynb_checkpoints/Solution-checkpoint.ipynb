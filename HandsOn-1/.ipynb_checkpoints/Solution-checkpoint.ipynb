{
 "cells": [
  {
   "cell_type": "code",
   "execution_count": null,
   "id": "9a6cf356-b15d-4b93-96e2-4b61d720a43f",
   "metadata": {},
   "outputs": [],
   "source": [
    "from transformers import pipeline"
   ]
  },
  {
   "cell_type": "code",
   "execution_count": null,
   "id": "9bdcbd9d-cb3f-48c0-9393-5fa6edbe16f4",
   "metadata": {},
   "outputs": [],
   "source": [
    "summarizer = pipeline(\"summarization\")\n",
    "\n",
    "summarizer([\n",
    "    \"\"\"AGI (Artificial General Intelligence) is a type of AI that can perform any intellectual task\n",
    "that a human can do. Unlike narrow AI, which is designed for specific tasks (like language translation or playing chess),\n",
    "AGI would be able to learn and apply knowledge across a wide range of subjects, understand complex concepts,\n",
    "reason, and adapt to new situations, just like a human brain.\"\"\"\n",
    "])"
   ]
  }
 ],
 "metadata": {
  "kernelspec": {
   "display_name": "Python 3 (ipykernel)",
   "language": "python",
   "name": "python3"
  },
  "language_info": {
   "name": ""
  }
 },
 "nbformat": 4,
 "nbformat_minor": 5
}
