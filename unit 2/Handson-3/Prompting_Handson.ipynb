{
  "nbformat": 4,
  "nbformat_minor": 0,
  "metadata": {
    "colab": {
      "provenance": []
    },
    "kernelspec": {
      "name": "python3",
      "display_name": "Python 3"
    },
    "language_info": {
      "name": "python"
    }
  },
  "cells": [
    {
      "cell_type": "markdown",
      "source": [
        "## Prompting Handson: Zero Shot, Few Shot, Chain of Thought and ReAct"
      ],
      "metadata": {
        "id": "v_6gH6K81Brr"
      }
    },
    {
      "cell_type": "markdown",
      "source": [
        "\n",
        "## 1. Setup\n",
        "Install and import necessary libraries.\n",
        "\n"
      ],
      "metadata": {
        "id": "fM5N9Dyi0-ZQ"
      }
    },
    {
      "cell_type": "code",
      "execution_count": null,
      "metadata": {
        "colab": {
          "base_uri": "https://localhost:8080/"
        },
        "id": "QhDyFKrDzx-Y",
        "outputId": "c4e4e40c-ad9d-4ac1-958d-d5e60b6c7054"
      },
      "outputs": [
        {
          "output_type": "stream",
          "name": "stdout",
          "text": [
            "Requirement already satisfied: groq in /usr/local/lib/python3.11/dist-packages (0.18.0)\n",
            "Requirement already satisfied: python-dotenv in /usr/local/lib/python3.11/dist-packages (1.0.1)\n",
            "Requirement already satisfied: anyio<5,>=3.5.0 in /usr/local/lib/python3.11/dist-packages (from groq) (3.7.1)\n",
            "Requirement already satisfied: distro<2,>=1.7.0 in /usr/local/lib/python3.11/dist-packages (from groq) (1.9.0)\n",
            "Requirement already satisfied: httpx<1,>=0.23.0 in /usr/local/lib/python3.11/dist-packages (from groq) (0.28.1)\n",
            "Requirement already satisfied: pydantic<3,>=1.9.0 in /usr/local/lib/python3.11/dist-packages (from groq) (2.10.6)\n",
            "Requirement already satisfied: sniffio in /usr/local/lib/python3.11/dist-packages (from groq) (1.3.1)\n",
            "Requirement already satisfied: typing-extensions<5,>=4.10 in /usr/local/lib/python3.11/dist-packages (from groq) (4.12.2)\n",
            "Requirement already satisfied: idna>=2.8 in /usr/local/lib/python3.11/dist-packages (from anyio<5,>=3.5.0->groq) (3.10)\n",
            "Requirement already satisfied: certifi in /usr/local/lib/python3.11/dist-packages (from httpx<1,>=0.23.0->groq) (2025.1.31)\n",
            "Requirement already satisfied: httpcore==1.* in /usr/local/lib/python3.11/dist-packages (from httpx<1,>=0.23.0->groq) (1.0.7)\n",
            "Requirement already satisfied: h11<0.15,>=0.13 in /usr/local/lib/python3.11/dist-packages (from httpcore==1.*->httpx<1,>=0.23.0->groq) (0.14.0)\n",
            "Requirement already satisfied: annotated-types>=0.6.0 in /usr/local/lib/python3.11/dist-packages (from pydantic<3,>=1.9.0->groq) (0.7.0)\n",
            "Requirement already satisfied: pydantic-core==2.27.2 in /usr/local/lib/python3.11/dist-packages (from pydantic<3,>=1.9.0->groq) (2.27.2)\n"
          ]
        }
      ],
      "source": [
        "!pip install groq python-dotenv\n",
        "\n",
        "import os\n",
        "from groq import Groq\n",
        "\n",
        "client = Groq(api_key=\"\")"
      ]
    },
    {
      "cell_type": "markdown",
      "source": [
        "# 2. Zero Shot and Few Shot\n",
        "\n",
        "What's a shot 😶?\n",
        "\n",
        "In machine learning, specifically in Few-shot and Zero-shot learning, a **\"shot\" refers to an example provided to the model to help it understand the task.**"
      ],
      "metadata": {
        "id": "UMKEz6Wj3AS8"
      }
    },
    {
      "cell_type": "markdown",
      "source": [
        "# Let's look at an analogy:\n",
        "Imagine you're teaching someone how to drive a car.\n",
        "\n",
        "# **Zero-Shot Prompting (No Examples Given)**\n",
        "\n",
        "  💡 Scenario: You hand the car keys to a person who has never driven before and say:\n",
        "  \"Drive to the grocery store.\"\n",
        "\n",
        "  🔍 What happens?\n",
        "\n",
        "  If they’ve never driven before, they’ll struggle.\n",
        "  If they’ve seen others drive, they might guess how to do it, but mistakes are likely.\n",
        "\n",
        "  💡 AI Equivalent:\n",
        "\n",
        "  The model is asked to generate an answer without any examples.\n",
        "  It relies on what it has already learned during training.\n",
        "\n",
        "# **Few-Shot Prompting (Providing Examples Before Asking)**\n",
        "\n",
        "  💡 Scenario: Before giving them the keys, you drive them to the grocery store a few times and explain each step:\n",
        "  \"First, start the car. Then, press the gas slowly. Stop at red lights…\"\n",
        "\n",
        "  🔍 What happens?\n",
        "\n",
        "  They learn by observing and following patterns.\n",
        "  When asked to drive, they can replicate the process more accurately.\n",
        "\n",
        "  💡 AI Equivalent:\n",
        "\n",
        "  The model is given a few examples before being asked to generate a response.\n",
        "  It understands the pattern and performs better than in zero-shot prompting.\n",
        "\n"
      ],
      "metadata": {
        "id": "mlwQ4-6-3JMV"
      }
    },
    {
      "cell_type": "markdown",
      "source": [
        "**SUMMARY**\n",
        " ### Zero-Shot Learning\n",
        "- Model solves task without any examples\n",
        "\n",
        "- Relies entirely on pre-trained knowledge\n",
        "\n",
        "- Example: \"Classify this text as positive or negative: {text}\"\n",
        "\n",
        "### Few-Shot Learning\n",
        "- Model is given 2-5 examples before the target task\n",
        "\n",
        "- Helps establish pattern/format\n",
        "\n",
        "- Example: \"Apple -> fruit, Carrot -> vegetable, Potato -> ?\"\n"
      ],
      "metadata": {
        "id": "UStEiMXB4Moo"
      }
    },
    {
      "cell_type": "code",
      "source": [
        "def prompt_groq(prompt):\n",
        "    response = client.chat.completions.create(\n",
        "        model=\"llama3-8b-8192\",  # Choose your model\n",
        "        messages=[{\"role\": \"user\", \"content\": prompt}]\n",
        "    )\n",
        "    return response.choices[0].message.content"
      ],
      "metadata": {
        "id": "cSSZHWIu4qH-"
      },
      "execution_count": null,
      "outputs": []
    },
    {
      "cell_type": "markdown",
      "source": [
        "## 1. **Zero-Shot Prompting Example**"
      ],
      "metadata": {
        "id": "h2k6QHpp4u-7"
      }
    },
    {
      "cell_type": "code",
      "source": [
        "zero_shot_prompt = \"Translate the sentence 'Bonjour, comment ça va?' into English.\"  # You can try translating this to other languages too!\n",
        "zero_shot_result = prompt_groq(zero_shot_prompt)\n",
        "print(\"Zero-Shot Result:\\n\", zero_shot_result)"
      ],
      "metadata": {
        "colab": {
          "base_uri": "https://localhost:8080/"
        },
        "id": "eiDOhOcp4_0A",
        "outputId": "fa73e948-e40b-41fb-c27d-54c0da6b623a"
      },
      "execution_count": null,
      "outputs": [
        {
          "output_type": "stream",
          "name": "stdout",
          "text": [
            "Zero-Shot Result:\n",
            " A classic French phrase!\n",
            "\n",
            "The translation of \"Bonjour, comment ça va?\" into English is:\n",
            "\n",
            "\"Hello, how are you?\"\n",
            "\n",
            "Here's a breakdown:\n",
            "\n",
            "* \"Bonjour\" means \"hello\" or \"good day\"\n",
            "* \"comment\" means \"how\"\n",
            "* \"ça\" is a contraction of \"cela\", meaning \"this\" or \"that\", but in this context, it's used to mean \"things\" or \"you\"\n",
            "* \"va\" is the present tense of the verb \"aller\", meaning \"go\", but in this context, it's used as an idiomatic phrase to ask about someone's well-being, similar to \"how are you?\"\n",
            "\n",
            "So, when you combine them, \"Bonjour, comment ça va?\" is a friendly greeting that asks about the person's well-being or current situation.\n"
          ]
        }
      ]
    },
    {
      "cell_type": "code",
      "source": [
        "zero_shot_prompt2=\" Classify if this sentence is positive, negative or neutral 'I absolutely love this new phone!' \"\n",
        "zero_shot_result2 = prompt_groq(zero_shot_prompt2)\n",
        "print(\"Zero-Shot Result:\\n\", zero_shot_result2)"
      ],
      "metadata": {
        "colab": {
          "base_uri": "https://localhost:8080/"
        },
        "id": "63Un8y9VAyXZ",
        "outputId": "a857d353-86fe-44ad-a0ae-15b7ab50336a"
      },
      "execution_count": null,
      "outputs": [
        {
          "output_type": "stream",
          "name": "stdout",
          "text": [
            "Zero-Shot Result:\n",
            " This sentence is definitely positive! The use of the word \"absolutely\" to emphasize the verb \"love\" and the expression of enthusiasm (\"I love\") clearly convey a strong positive sentiment towards the new phone.\n"
          ]
        }
      ]
    },
    {
      "cell_type": "markdown",
      "source": [
        "## 2. **Few-Shot Prompting Example**"
      ],
      "metadata": {
        "id": "b1LNUuKtBMMx"
      }
    },
    {
      "cell_type": "code",
      "source": [
        "few_shot_prompt = \"\"\"\n",
        "Translate the following French sentences to English:\n",
        "French: \"Bonjour, comment ça va?\"\n",
        "English: \"Hello, how are you?\"\n",
        "\n",
        "French: \"Merci beaucoup!\"\n",
        "English: \"Thank you very much!\"\n",
        "\n",
        "French: \"Je suis étudiant.\"\n",
        "English:\n",
        "\"\"\"\n",
        "few_shot_result = prompt_groq(few_shot_prompt)\n",
        "print(\"\\nFew-Shot Result:\\n\", few_shot_result)\n"
      ],
      "metadata": {
        "colab": {
          "base_uri": "https://localhost:8080/"
        },
        "id": "ywTfkB8M0jZP",
        "outputId": "51badf62-7ca1-4c99-8f48-f6d96d52c247"
      },
      "execution_count": null,
      "outputs": [
        {
          "output_type": "stream",
          "name": "stdout",
          "text": [
            "\n",
            "Few-Shot Result:\n",
            " English: \"I am a student.\"\n",
            "\n",
            "(Note: \"étudiant\" typically means \"student\" in a general sense, but it can also be used to refer specifically to a university student, so the translation could also be \"I am a university student\" depending on the context.)\n"
          ]
        }
      ]
    },
    {
      "cell_type": "markdown",
      "source": [
        "#  3. Chain of Thought (CoT)\n",
        "\n",
        "What is Chain of Thought?\n",
        "\n",
        "Chain of Thought (CoT) is a prompting technique where the model is guided to solve a problem step-by-step, mimicking human reasoning. It is particularly useful for complex tasks like arithmetic, logic, and planning.\n",
        "\n",
        "**Summary:**\n",
        "\n",
        "### Chain-of-Thought (CoT)\n",
        "- Explicit step-by-step reasoning demonstration\n",
        "\n",
        "- Combines few-shot with reasoning steps\n",
        "\n",
        "- Especially useful for complex problems\n",
        "\n",
        "\n",
        "\n",
        "\n",
        "\n",
        "Example: Solving a Math Problem"
      ],
      "metadata": {
        "id": "rhhvuA_KBlbz"
      }
    },
    {
      "cell_type": "code",
      "source": [
        "cot_prompt = \"\"\"\n",
        "Solve the following math problem step by step:\n",
        "\n",
        "Question: John has 3 apples. He buys 5 more apples and gives 2 to his friend. How many apples does he have now?\n",
        "\n",
        "Step 1: John starts with 3 apples.\n",
        "Step 2: He buys 5 more apples. Now he has 3 + 5 = 8 apples.\n",
        "Step 3: He gives 2 apples to his friend. Now he has\n",
        "\"\"\"\n",
        "cot_result = prompt_groq(cot_prompt)\n",
        "print(\"\\nChain of Thought Result:\\n\", cot_result)\n"
      ],
      "metadata": {
        "colab": {
          "base_uri": "https://localhost:8080/"
        },
        "id": "M6iPIofPBVNY",
        "outputId": "36517f4d-10ea-406a-9f45-8890743a7998"
      },
      "execution_count": null,
      "outputs": [
        {
          "output_type": "stream",
          "name": "stdout",
          "text": [
            "\n",
            "Chain of Thought Result:\n",
            " Let's solve the problem step by step:\n",
            "\n",
            "Step 1: John starts with 3 apples.\n",
            "\n",
            "Step 2: He buys 5 more apples. Now he has 3 + 5 = 8 apples.\n",
            "\n",
            "Step 3: He gives 2 apples to his friend. Now he has 8 - 2 = 6 apples.\n",
            "\n",
            "So, John has 6 apples now.\n"
          ]
        }
      ]
    },
    {
      "cell_type": "markdown",
      "source": [
        "##4. Graph-of-Thought\n",
        "\n",
        "Graph of Thoughts (GoT) is a reasoning framework where multiple solution paths are explored simultaneously and compared before reaching a final decision. Unlike linear approaches (like CoT), GoT enables a model to analyze multiple aspects of a problem in parallel and dynamically connect different ideas to form an optimized solution.\n",
        "\n",
        "Example:\n",
        "A model evaluating different investment strategies based on factors like risk, return, and market trends, allowing it to assess multiple possibilities before recommending the best approach."
      ],
      "metadata": {
        "id": "0_ptfAtv4TiC"
      }
    },
    {
      "cell_type": "code",
      "source": [
        "got_prompt = \"\"\"You are planning a one-week vacation and need to decide between visiting Japan, Italy, or Australia.\n",
        "Evaluate each destination based on three factors:\n",
        "- Budget\n",
        "- Weather\n",
        "- Cultural experiences.\n",
        "Analyze all options in parallel and justify your final choice.\"\"\"\n",
        "got_result = prompt_groq(got_prompt)\n",
        "print(\"Graph of Thoughts Result:\\n\", got_result)"
      ],
      "metadata": {
        "colab": {
          "base_uri": "https://localhost:8080/"
        },
        "id": "0pqH1hFbv1wK",
        "outputId": "8551bbd0-865c-469d-97ed-fe043e9cbabf"
      },
      "execution_count": null,
      "outputs": [
        {
          "output_type": "stream",
          "name": "stdout",
          "text": [
            "Graph of Thoughts Result:\n",
            " Let's evaluate each destination based on the three factors: Budget, Weather, and Cultural Experiences.\n",
            "\n",
            "**Japan**\n",
            "\n",
            "* Budget: Japan is generally considered to be a relatively expensive country to visit, with high prices for accommodations, food, and transportation. Budget-conscious travelers may want to consider booking in advance or looking for affordable options outside of major cities. (Score: 6/10)\n",
            "* Weather: Japan has a distinct seasonal climate, with mild winters and hot, humid summers. Spring (March-May) and autumn (September-November) are generally the best times to visit, with comfortable temperatures and scenic views. (Score: 8/10)\n",
            "* Cultural Experiences: Japan is renowned for its rich cultural heritage, with a plethora of temples, shrines, and gardens to explore. Visitors can experience traditional tea ceremonies, visit bustling markets, or relax in an onsen (hot spring). (Score: 9/10)\n",
            "\n",
            "**Italy**\n",
            "\n",
            "* Budget: Italy is generally more budget-friendly than Japan, with a range of accommodation options and affordable food. However, popular destinations like Rome and Florence can still be quite expensive. (Score: 7/10)\n",
            "* Weather: Italy has a Mediterranean climate, with warm summers and mild winters. The best time to visit is spring (April-June) or autumn (September-October), when the weather is pleasant and there are fewer tourists. (Score: 9/10)\n",
            "* Cultural Experiences: Italy is steeped in history and culture, with iconic landmarks like the Colosseum, Pantheon, and Uffizi Gallery. Visitors can explore vibrant cities, visit charming hilltop towns, or enjoy a pasta-making class. (Score: 9/10)\n",
            "\n",
            "**Australia**\n",
            "\n",
            "* Budget: Australia is generally more expensive than Italy, with high prices for accommodations, food, and activities. However, there are plenty of affordable options for backpackers and budget-conscious travelers. (Score: 5/10)\n",
            "* Weather: Australia has a diverse climate, ranging from tropical north to temperate south. The best time to visit depends on the region, but generally, the dry season (April-October) is the best time to explore the Outback or beaches. (Score: 7/10)\n",
            "* Cultural Experiences: Australia has a unique cultural identity, with a blend of Indigenous, British, and Asian influences. Visitors can explore vibrant cities, visit world-class museums, or experience the famous Sydney Opera House. (Score: 8/10)\n",
            "\n",
            "Now, let's analyze each option and make a decision:\n",
            "\n",
            "Based on the scores, Italy appears to be the top choice, with high marks for both Budget and Cultural Experiences. Japan is a close second, with exceptional Cultural Experiences and a unique weather pattern. Australia, while having its own unique charm, falls short on Budget and Weather.\n",
            "\n",
            "However, considering the overall scores and taking into account personal preferences, I would choose Japan as my destination. While Japan is more expensive, the cultural experiences and unique weather pattern make it an unforgettable destination. Additionally, Japan offers a range of affordable options, such as budget-friendly accommodations and local food, making it more accessible than initially thought.\n",
            "\n",
            "With two weeks, I would consider visiting Japan, Italy, and Australia, as each destination has its unique charm and experiences to offer. For a one-week vacation, Italy would be a great choice, but Japan's unique blend of culture, history, and natural landscapes makes it the most exciting and fulfilling option for me.\n"
          ]
        }
      ]
    },
    {
      "cell_type": "markdown",
      "source": [
        "##5. Tree-of-Thought\n",
        "Tree of Thoughts (ToT) is a structured problem-solving approach where a model breaks a task into hierarchical steps, evaluates possible solutions at each level, and chooses the most optimal path. Unlike GoT, which considers multiple ideas in parallel, ToT follows a decision tree format, where each step influences the next.\n",
        "\n"
      ],
      "metadata": {
        "id": "Xq0w8DDK3_vc"
      }
    },
    {
      "cell_type": "code",
      "source": [
        "tot_prompt = \"\"\"A startup wants to launch a new mobile app. They have three options: a fitness tracker, a budgeting tool, and a social networking app.\n",
        "Step 1: Analyze potential challenges.\n",
        "Step 2: Evaluate market demand.\n",
        "Step 3: Compare revenue models.\n",
        "Step 4: Choose the best option and justify the decision.\"\"\"\n",
        "tot_result = prompt_groq(tot_prompt)\n",
        "print(\"Tree of Thoughts Result:\\n\", tot_result)"
      ],
      "metadata": {
        "colab": {
          "base_uri": "https://localhost:8080/"
        },
        "id": "fVAMG3Hy3kA_",
        "outputId": "69e35952-59d5-4256-8e1d-31a66ca1aa34"
      },
      "execution_count": null,
      "outputs": [
        {
          "output_type": "stream",
          "name": "stdout",
          "text": [
            "Tree of Thoughts Result:\n",
            " Here's a step-by-step analysis for the startup:\n",
            "\n",
            "**Step 1: Analyze potential challenges**\n",
            "\n",
            "* Fitness tracker:\n",
            "\t+ Challenge: High competition from established apps like Fitbit and MyFitnessPal, requiring significant investment in marketing and user acquisition.\n",
            "\t+ Technical challenges: Integrating various sensors and wearables, ensuring accurate tracking and data analysis.\n",
            "* Budgeting tool:\n",
            "\t+ Challenge: Building a user base and encouraging users to regularly track their spending, potentially facing competition from established budgeting apps like Mint and Personal Capital.\n",
            "\t+ Technical challenges: Developing complex algorithms to analyze user spending habits and provide personalized recommendations.\n",
            "* Social networking app:\n",
            "\t+ Challenge: Breaking into a crowded market dominated by established players like Facebook, Instagram, and Twitter, requiring significant marketing and user acquisition efforts.\n",
            "\t+ Technical challenges: Ensuring a stable and scalable platform, handling large volumes of user data and interactions.\n",
            "\n",
            "**Step 2: Evaluate market demand**\n",
            "\n",
            "* Fitness tracker:\n",
            "\t+ Market size: Estimated 200 million people use fitness trackers worldwide (Source: Statista).\n",
            "\t+ Growth potential: Moderate, with increasing adoption of wearable technology.\n",
            "* Budgeting tool:\n",
            "\t+ Market size: Estimated 150 million people use personal finance apps worldwide (Source: Statista).\n",
            "\t+ Growth potential: High, with more people seeking financial management solutions.\n",
            "* Social networking app:\n",
            "\t+ Market size: Estimated 3.8 billion social media users worldwide (Source: Hootsuite).\n",
            "\t+ Growth potential: Steady, with social media users continuing to grow.\n",
            "\n",
            "**Step 3: Compare revenue models**\n",
            "\n",
            "* Fitness tracker:\n",
            "\t+ Subscription-based model with monthly or annual fees.\n",
            "\t+ In-app purchases for premium features or integrations with wearables.\n",
            "\t+ Advertising revenue from partnering with fitness-related businesses.\n",
            "* Budgeting tool:\n",
            "\t+ Subscription-based model with monthly or annual fees.\n",
            "\t+ Advertising revenue from partnering with financial institutions and businesses.\n",
            "\t+ Affiliate revenue through partnerships with financial services providers.\n",
            "* Social networking app:\n",
            "\t+ Advertising revenue from displaying ads to users.\n",
            "\t+ Premium features or subscriptions for enhanced functionality, such as enhanced security or priority customer support.\n",
            "\t+ Data monetization through anonymized user data analysis and selling insights to businesses.\n",
            "\n",
            "**Step 4: Choose the best option and justify the decision**\n",
            "\n",
            "Based on the analysis, the startup should choose the budgeting tool as the best option. Here's why:\n",
            "\n",
            "* The budgeting tool addresses a pressing need in the market, with a high growth potential and relatively less competition compared to the fitness tracker and social networking app.\n",
            "* The subscription-based model and advertising revenue streams provide a stable and predictable revenue stream.\n",
            "* The technical challenges, while significant, are manageable with a strong development team.\n",
            "* The market demand and growth potential for budgeting tools are high, indicating a strong potential for user acquisition and retention.\n",
            "\n",
            "By choosing the budgeting tool, the startup can establish a strong foundation for growth and revenue generation, while also addressing a critical need in the market.\n"
          ]
        }
      ]
    },
    {
      "cell_type": "markdown",
      "source": [
        "# 6. ReAct (Reasoning + Acting)\n",
        "\n",
        "### What is ReAct?\n",
        "ReAct combines Reasoning and Acting to enable models to interact with external tools (e.g., APIs, databases) while reasoning through a problem. It is particularly useful for tasks requiring dynamic information retrieval.\n",
        "\n",
        "Example: Using ReAct to Answer a Question\n",
        "\n",
        "\n",
        "Let’s simulate a ReAct workflow where the model retrieves information from an external API.\n",
        "\n",
        "This is the fundamental basis of AI Agents (Thinking + Action)"
      ],
      "metadata": {
        "id": "S4RhLKrMB0_-"
      }
    },
    {
      "cell_type": "code",
      "source": [
        "def react(query: str) -> str:\n",
        "    prompt = f\"\"\"Answer using the ReAct format with available tools:\n",
        "\n",
        "    Tools:\n",
        "    - search: General knowledge lookup\n",
        "    - calculate: Math operations\n",
        "    - convert: Unit conversions\n",
        "\n",
        "    Query: {query}\n",
        "\n",
        "    Step-by-Step Process:\n",
        "    1. Analyze query requirements\n",
        "    2. Identify needed information\n",
        "    3. Choose appropriate tools\n",
        "    4. Execute actions sequentially\n",
        "    5. Validate intermediate results\n",
        "    6. Formulate final answer\n",
        "\n",
        "    Follow this template:\n",
        "    Thought: [Detailed reasoning]\n",
        "    Action: [Tool call]\n",
        "    Observation: [Tool response]\n",
        "    ...repeat...\n",
        "    Verification: [Cross-check results]\n",
        "    Final Answer: [Concise answer]\"\"\"\n",
        "\n",
        "    response = client.chat.completions.create(\n",
        "        messages=[{\"role\": \"user\", \"content\": prompt}],\n",
        "        model=\"llama3-70b-8192\",\n",
        "        temperature=0.3,\n",
        "        max_tokens=600\n",
        "    )\n",
        "    return response.choices[0].message.content\n",
        "\n",
        "# Test\n",
        "print(react(\"Convert the speed of light from m/s to km/h\"))"
      ],
      "metadata": {
        "colab": {
          "base_uri": "https://localhost:8080/"
        },
        "id": "p3Bf002FBjlL",
        "outputId": "6abfba0f-9b43-4fdb-943a-04d595aec3f8"
      },
      "execution_count": null,
      "outputs": [
        {
          "output_type": "stream",
          "name": "stdout",
          "text": [
            "Here is the step-by-step process to convert the speed of light from m/s to km/h:\n",
            "\n",
            "Thought: The query requires converting the speed of light from meters per second (m/s) to kilometers per hour (km/h). We need to know the speed of light in m/s and use the convert tool to perform the unit conversion.\n",
            "\n",
            "Action: search(\"speed of light in m/s\")\n",
            "Observation: The speed of light in vacuum is approximately 299,792,458 m/s.\n",
            "\n",
            "Thought: Now that we have the speed of light in m/s, we can use the convert tool to convert it to km/h.\n",
            "\n",
            "Action: convert(299,792,458, \"m/s\", \"km/h\")\n",
            "Observation: The speed of light is approximately 1,079,252,808 km/h.\n",
            "\n",
            "Verification: To cross-check the result, we can use the calculate tool to perform the conversion manually. 1 kilometer is equal to 1000 meters, and 1 hour is equal to 3600 seconds. So, we can convert the speed of light as follows: (299,792,458 m/s) × (3600 s/h) ÷ (1000 m/km) ≈ 1,079,252,808 km/h.\n",
            "\n",
            "Verification: The manual calculation matches the result obtained using the convert tool.\n",
            "\n",
            "Final Answer: The speed of light is approximately 1,079,252,808 kilometers per hour.\n"
          ]
        }
      ]
    },
    {
      "cell_type": "markdown",
      "source": [
        "#### Explanation\n",
        "- The model reasons through the problem and interacts with an external tool (API) to retrieve information.\n",
        "\n",
        "- This approach is useful for tasks requiring up-to-date or external data."
      ],
      "metadata": {
        "id": "Hcbr5KfVCLSl"
      }
    },
    {
      "cell_type": "markdown",
      "source": [
        "## 5. Comparison of CoT, and ReAct\n",
        "\n",
        "| Method | Description | Use Case |\n",
        "|--------|-------------|-----------|\n",
        "| Chain of Thought | Linear step-by-step reasoning | Arithmetic, logic, planning |\n",
        "| ReAct | Combines reasoning with external actions (e.g., API calls) | Dynamic information retrieval |"
      ],
      "metadata": {
        "id": "3YBl8HDbCNHJ"
      }
    },
    {
      "cell_type": "markdown",
      "source": [
        "##**Assignment Task**"
      ],
      "metadata": {
        "id": "6zuu8P9mFLke"
      }
    },
    {
      "cell_type": "markdown",
      "source": [
        "\n",
        "#### **1️. Zero-Shot Prompting**  \n",
        "**Q:** Classify the sentiment of this sentence: 'The service at the restaurant was incredibly slow and disappointing.' as positive, negative, or neutral.\n",
        "\n",
        "\n",
        "\n",
        "#### **2️. Few-Shot Prompting**  \n",
        "**Q:** Identify the language of this sentence: 'Das Wetter ist heute schön.'\n",
        "- **Examples:**  \n",
        "  - 'Bonjour, comment ça va?' is French  \n",
        "  - 'Hola, ¿cómo estás?' is Spanish\n",
        "  - 'Guten Tag, wie geht es Ihnen?' is German\n",
        "\n",
        "\n",
        "\n",
        "#### **3️. Chain of Thought (CoT) Prompting**  \n",
        "**Q:** A train travels at 60 km/h for 2 hours, then at 80 km/h for 3 hours. What is the total distance traveled? Show your calculations step by step.\n",
        "\n",
        "\n",
        "#### **4. Graph of Thought (GoT) Prompting**  \n",
        "**Q:** You are designing an AI debate assistant that helps users form strong arguments on controversial topics (e.g., \"Should AI replace human jobs?\"). The AI must consider multiple perspectives before generating a well-balanced argument.\n",
        "\n",
        "Question:\n",
        "\n",
        "Create a GoT-based prompt that enables the AI to simultaneously evaluate multiple viewpoints (e.g., economic, ethical, social, technological) before forming an answer.\n",
        "Ensure that the model dynamically connects different perspectives rather than following a single train of thought.\n",
        "\n",
        "#### **5. Train of Thought (GoT) Prompting**  \n",
        "**Q:** You are building an AI story generator that creates mystery stories by gradually revealing clues.\n",
        "\n",
        "Question:\n",
        "\n",
        "Create a ToT-based prompt that makes the AI:\n",
        "Set up a compelling mystery scenario\n",
        "Introduce characters and possible suspects step by step\n",
        "Reveal clues progressively, eliminating false leads\n",
        "Conclude with a logical and satisfying resolution\n",
        "\n",
        "\n",
        "#### **6. ReAct Prompting**  \n",
        "**Q:** Retrieve the real-time stock price of Apple Inc. (AAPL). Analyze its recent trend to determine whether the stock is rising or falling. Based on the trend, decide whether it is a good time to buy, sell, or hold\n"
      ],
      "metadata": {
        "id": "dSsenUEcEMS_"
      }
    }
  ]
}