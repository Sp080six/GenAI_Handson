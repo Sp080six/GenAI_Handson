{
  "nbformat": 4,
  "nbformat_minor": 0,
  "metadata": {
    "colab": {
      "provenance": []
    },
    "kernelspec": {
      "name": "python3",
      "display_name": "Python 3"
    },
    "language_info": {
      "name": "python"
    }
  },
  "cells": [
    {
      "cell_type": "code",
      "execution_count": null,
      "metadata": {
        "id": "C-fFudlo0SvO"
      },
      "outputs": [],
      "source": [
        "# !pip install crewai exa_py\n",
        "\n",
        "\n",
        "from crewai import Agent, Task, Crew, LLM\n",
        "from tavily import TavilyClient\n",
        "import os"
      ]
    },
    {
      "cell_type": "code",
      "source": [
        "# Configure Exa API\n",
        "llm = LLM(\n",
        "    model=\"gemini/gemini-2.0-flash\",\n",
        "    temperature=0.7,\n",
        "    api_key = ''\n",
        ")\n"
      ],
      "metadata": {
        "id": "vKoVvmEE0c5b"
      },
      "execution_count": null,
      "outputs": []
    },
    {
      "cell_type": "code",
      "source": [
        "# Utility function to demonstrate web search capability\n",
        "from crewai.tools import tool\n",
        "\n",
        "@tool(\"Internet  Tool\")\n",
        "def search_internet(query: str) -> str:\n",
        "    \"\"\"\n",
        "    Search the web using Tavily API\n",
        "\n",
        "    Args:\n",
        "        query (str): The search query\n",
        "\n",
        "    Returns:\n",
        "        str: Search results from Tavily\n",
        "    \"\"\"\n",
        "    client = TavilyClient(api_key=\"\")\n",
        "\n",
        "    try:\n",
        "        response = client.search(query=query)\n",
        "        return str(response)\n",
        "    except Exception as e:\n",
        "        return {\"error\": str(e)}\n"
      ],
      "metadata": {
        "id": "ujcP-GP30fIH"
      },
      "execution_count": null,
      "outputs": []
    },
    {
      "cell_type": "code",
      "source": [
        "# Define the Researcher Agent\n",
        "researcher = Agent(\n",
        "    role=\"Professional Online Researcher\",\n",
        "    goal=\"Search for recent and credible information on the latest gpt4.5, organize it, and provide source citations.\",\n",
        "    backstory=\"You are an expert researcher with access to advanced search tools. Use search internet tool by passing a string query\",\n",
        "    tools=[search_internet],  #search function as a tool\n",
        "    verbose=True,\n",
        "    llm=llm\n",
        ")"
      ],
      "metadata": {
        "id": "A2aT8FCi0h7m"
      },
      "execution_count": null,
      "outputs": []
    },
    {
      "cell_type": "code",
      "source": [
        "# Define the Writer Agent\n",
        "writer = Agent(\n",
        "    role=\"Professional Content Writer\",\n",
        "    goal=\"Transform research findings into well-structured, engaging, and accurate content.\",\n",
        "    backstory=\"You are a skilled writer who specializes in creating high-quality articles, reports, and summaries based on research data.\",\n",
        "    verbose=True,\n",
        "    llm=llm\n",
        ")\n"
      ],
      "metadata": {
        "id": "z7MAGe0B0_kJ"
      },
      "execution_count": null,
      "outputs": []
    },
    {
      "cell_type": "code",
      "source": [
        "# Define the Translator Agent\n",
        "translator = Agent(\n",
        "    role=\"Professional Translator\",\n",
        "    goal=\"Accurately translate content from English into the target language while preserving meaning, tone, and structure.\",\n",
        "    backstory=\"You are a multilingual translator with expertise in adapting content for different cultures and audiences.\",\n",
        "    verbose=True,\n",
        "    llm=llm\n",
        ")\n"
      ],
      "metadata": {
        "id": "wmWLyRcm1CUx"
      },
      "execution_count": null,
      "outputs": []
    },
    {
      "cell_type": "code",
      "source": [
        "# Define Tasks for Each Agent\n",
        "research_task = Task(\n",
        "    description=\"Research the following topic: latest gpt4.5. Provide key facts, figures, and credible sources.\",\n",
        "    agent=researcher,\n",
        "    expected_output=\"A research report. Provide string as input to the internet search tool\"\n",
        ")"
      ],
      "metadata": {
        "id": "k03gX3MM1IHb"
      },
      "execution_count": null,
      "outputs": []
    },
    {
      "cell_type": "code",
      "source": [
        "writing_task = Task(\n",
        "    description=\"Write a well-structured article based on the research findings. Include an engaging introduction, clear sections, and proper citations.\",\n",
        "    agent=writer,\n",
        "    context=[research_task],  # Depends on the research task\n",
        "    expected_output=\"A detailed newsletter\"\n",
        ")"
      ],
      "metadata": {
        "id": "doPg3c1r1J4i"
      },
      "execution_count": null,
      "outputs": []
    },
    {
      "cell_type": "code",
      "source": [
        "translation_task = Task(\n",
        "    description=\"Translate the written article into Spanish. Ensure the translation maintains the original meaning, tone, and structure.\",\n",
        "    agent=translator,\n",
        "    context=[writing_task],  # Depends on the writing task\n",
        "    expected_output=\"Translated newsletter\"\n",
        ")\n"
      ],
      "metadata": {
        "id": "NKimspPK1LX6"
      },
      "execution_count": null,
      "outputs": []
    },
    {
      "cell_type": "code",
      "source": [
        "# Create the Crew\n",
        "crew = Crew(\n",
        "    agents=[researcher, writer, translator],\n",
        "    tasks=[research_task, writing_task, translation_task]\n",
        ")"
      ],
      "metadata": {
        "id": "_6e8taVz1OK0",
        "colab": {
          "base_uri": "https://localhost:8080/"
        },
        "outputId": "8203ff73-8194-49ca-a013-fc234637f682"
      },
      "execution_count": null,
      "outputs": [
        {
          "output_type": "stream",
          "name": "stderr",
          "text": [
            "WARNING:opentelemetry.trace:Overriding of current TracerProvider is not allowed\n"
          ]
        }
      ]
    },
    {
      "cell_type": "code",
      "source": [
        "# Execute the Crew\n",
        "results = crew.kickoff()"
      ],
      "metadata": {
        "id": "cOWNIzAZ13-O"
      },
      "execution_count": null,
      "outputs": []
    },
    {
      "cell_type": "code",
      "source": [
        "\n",
        "\n",
        "# print research findings\n",
        "print(results.tasks_output[0])\n",
        "\n",
        "# print article\n",
        "print(results.tasks_output[1])\n",
        "\n",
        "# print translated article\n",
        "print(results.tasks_output[2])\n",
        "\n"
      ],
      "metadata": {
        "id": "icIStpDM6ZeB"
      },
      "execution_count": null,
      "outputs": []
    }
  ]
}