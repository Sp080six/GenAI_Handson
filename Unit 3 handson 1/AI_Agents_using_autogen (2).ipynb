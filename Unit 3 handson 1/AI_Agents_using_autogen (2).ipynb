{
  "nbformat": 4,
  "nbformat_minor": 0,
  "metadata": {
    "colab": {
      "provenance": []
    },
    "kernelspec": {
      "name": "python3",
      "display_name": "Python 3"
    },
    "language_info": {
      "name": "python"
    }
  },
  "cells": [
    {
      "cell_type": "code",
      "execution_count": null,
      "metadata": {
        "id": "hagbL4bckNqN"
      },
      "outputs": [],
      "source": [
        "from autogen import ConversableAgent, register_function\n",
        "from tavily import TavilyClient\n"
      ]
    },
    {
      "cell_type": "code",
      "source": [
        "# Define the search function using Tavily\n",
        "def search_internet(query: str) -> str:\n",
        "    \"\"\"\n",
        "    Search the web using Tavily API\n",
        "\n",
        "    Args:\n",
        "        query (str): The search query\n",
        "\n",
        "    Returns:\n",
        "        str: Search results from Tavily\n",
        "    \"\"\"\n",
        "    client = TavilyClient(api_key='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')\n",
        "    try:\n",
        "        response = client.search(query=query)\n",
        "        return str(response)\n",
        "    except Exception as e:\n",
        "        return f\"Error: {str(e)}\"\n"
      ],
      "metadata": {
        "id": "J2gHXZGhpFdT"
      },
      "execution_count": null,
      "outputs": []
    },
    {
      "cell_type": "code",
      "source": [
        "# Set up the LLM configuration\n",
        "config_list = [\n",
        "    {\n",
        "        \"model\": \"gpt-4o-mini\",\n",
        "        \"api_key\": '',\n",
        "        # \"api_type\": \"google\"\n",
        "    }\n",
        "]\n"
      ],
      "metadata": {
        "id": "vjnSXqQopkkc"
      },
      "execution_count": null,
      "outputs": []
    },
    {
      "cell_type": "code",
      "source": [
        "# Create the user proxy agent\n",
        "user_proxy_agent = ConversableAgent(\n",
        "    name=\"UserProxy\",\n",
        "    llm_config=False,  # No LLM for this agent\n",
        "    human_input_mode=\"NEVER\",\n",
        "    code_execution_config=False,  # No code execution needed\n",
        "    is_termination_msg=lambda x: x.get(\"content\", \"\") is not None and \"terminate\" in x[\"content\"].lower(),\n",
        "    default_auto_reply=\"Please continue if not finished, otherwise return 'TERMINATE'.\"\n",
        ")"
      ],
      "metadata": {
        "colab": {
          "base_uri": "https://localhost:8080/",
          "height": 211
        },
        "collapsed": true,
        "id": "Wfmy9E8oppZr",
        "outputId": "6523a850-96b1-430e-fdb9-56c86b19e3af"
      },
      "execution_count": null,
      "outputs": [
        {
          "output_type": "error",
          "ename": "NameError",
          "evalue": "name 'autogen' is not defined",
          "traceback": [
            "\u001b[0;31m---------------------------------------------------------------------------\u001b[0m",
            "\u001b[0;31mNameError\u001b[0m                                 Traceback (most recent call last)",
            "\u001b[0;32m<ipython-input-1-1d2485ea6583>\u001b[0m in \u001b[0;36m<cell line: 0>\u001b[0;34m()\u001b[0m\n\u001b[1;32m      1\u001b[0m \u001b[0;31m# Create the researcher agent\u001b[0m\u001b[0;34m\u001b[0m\u001b[0;34m\u001b[0m\u001b[0m\n\u001b[0;32m----> 2\u001b[0;31m researcher = autogen.AssistantAgent(\n\u001b[0m\u001b[1;32m      3\u001b[0m     \u001b[0mname\u001b[0m\u001b[0;34m=\u001b[0m\u001b[0;34m\"Researcher\"\u001b[0m\u001b[0;34m,\u001b[0m\u001b[0;34m\u001b[0m\u001b[0;34m\u001b[0m\u001b[0m\n\u001b[1;32m      4\u001b[0m     system_message=\"\"\"You are a professional online researcher. Your job is to:\n\u001b[1;32m      5\u001b[0m \u001b[0;36m1.\u001b[0m \u001b[0mSearch\u001b[0m \u001b[0;32mfor\u001b[0m \u001b[0minformation\u001b[0m \u001b[0mon\u001b[0m \u001b[0mthe\u001b[0m \u001b[0mweb\u001b[0m \u001b[0mbased\u001b[0m \u001b[0mon\u001b[0m \u001b[0mthe\u001b[0m \u001b[0mspecified\u001b[0m \u001b[0mtopic\u001b[0m\u001b[0;34m\u001b[0m\u001b[0;34m\u001b[0m\u001b[0m\n",
            "\u001b[0;31mNameError\u001b[0m: name 'autogen' is not defined"
          ]
        }
      ]
    },
    {
      "cell_type": "code",
      "source": [
        "# Create the researcher agent\n",
        "researcher_agent = ConversableAgent(\n",
        "    name=\"Researcher\",\n",
        "    llm_config={\"config_list\": config_list},\n",
        "    system_message=\"You are a professional online researcher. Use the search_internet function to find information on the web. Your task is to research the latest GPT-4.5 and provide key facts, figures, and credible sources. Once complete, include the findings in your message and end with 'TERMINATE'.\"\n",
        ")"
      ],
      "metadata": {
        "id": "zCW3zCeApr0c"
      },
      "execution_count": null,
      "outputs": []
    },
    {
      "cell_type": "code",
      "source": [
        "# Create the writer agent\n",
        "writer_agent = ConversableAgent(\n",
        "    name=\"Writer\",\n",
        "    llm_config={\"config_list\": config_list},\n",
        "    system_message=\"You are a professional content writer. Your task is to take research findings and write a well-structured, engaging article with an introduction, clear sections, and proper citations. Once complete, include the article in your message and end with 'TERMINATE'.\"\n",
        ")"
      ],
      "metadata": {
        "id": "a7LT56HCpz12"
      },
      "execution_count": null,
      "outputs": []
    },
    {
      "cell_type": "code",
      "source": [
        "# Create the translator agent\n",
        "translator_agent = ConversableAgent(\n",
        "    name=\"Translator\",\n",
        "    llm_config={\"config_list\": config_list},\n",
        "    system_message=\"You are a professional translator. Your task is to translate the given article into Spanish, maintaining the original meaning, tone, and structure. Once complete, include the translated article in your message and end with 'TERMINATE'.\"\n",
        ")"
      ],
      "metadata": {
        "id": "nJOipy3zp342"
      },
      "execution_count": null,
      "outputs": []
    },
    {
      "cell_type": "code",
      "source": [
        "# Register the search function with the researcher agent\n",
        "register_function(\n",
        "    search_internet,\n",
        "    caller=researcher_agent,\n",
        "    executor=user_proxy_agent,\n",
        "    name=\"search_internet\",\n",
        "    description=\"Search the internet using Tavily API\"\n",
        ")\n"
      ],
      "metadata": {
        "id": "Cx81v3hop_cu"
      },
      "execution_count": null,
      "outputs": []
    },
    {
      "cell_type": "code",
      "source": [
        "# Step 1: Initiate research chat\n",
        "research_chat_result = user_proxy_agent.initiate_chat(\n",
        "    researcher_agent,\n",
        "    message=\"Please research the latest GPT-4.5 and provide key facts, figures, and credible sources.\"\n",
        ")\n",
        "\n",
        "# Extract research findings from the last message\n",
        "research_findings = research_chat_result.chat_history[-1][\"content\"].replace(\"TERMINATE\", \"\").strip()\n",
        "\n",
        "# Step 2: Initiate writing chat with research findings\n",
        "writing_chat_result = user_proxy_agent.initiate_chat(\n",
        "    writer_agent,\n",
        "    message=f\"Based on the following research findings, please write a well-structured article:\\n{research_findings}\"\n",
        ")\n",
        "\n",
        "# Extract the article from the last message\n",
        "article = writing_chat_result.chat_history[-1][\"content\"].replace(\"TERMINATE\", \"\").strip()\n",
        "\n",
        "# Step 3: Initiate translation chat with the article\n",
        "translation_chat_result = user_proxy_agent.initiate_chat(\n",
        "    translator_agent,\n",
        "    message=f\"Please translate the following article into Spanish:\\n{article}\"\n",
        ")\n",
        "\n",
        "# Extract the translated article from the last message\n",
        "translated_article = translation_chat_result.chat_history[-1][\"content\"].replace(\"TERMINATE\", \"\").strip()\n"
      ],
      "metadata": {
        "id": "zItfvCCGqB3X"
      },
      "execution_count": null,
      "outputs": []
    },
    {
      "cell_type": "code",
      "source": [
        "# Save results to files\n",
        "print(research_findings)\n",
        "\n",
        "print(article)\n",
        "\n",
        "print(translated_article)\n",
        "\n",
        "print(\"Results have been printed: research_findings, article, and translated_article_spanish\")"
      ],
      "metadata": {
        "id": "VOx1aEaps_Ln"
      },
      "execution_count": null,
      "outputs": []
    }
  ]
}